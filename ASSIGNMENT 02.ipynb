{
 "cells": [
  {
   "cell_type": "markdown",
   "id": "d51345a9",
   "metadata": {},
   "source": [
    "# SUM OF DIGITS OF NUMBER"
   ]
  },
  {
   "cell_type": "code",
   "execution_count": 5,
   "id": "cb944131",
   "metadata": {},
   "outputs": [
    {
     "name": "stdout",
     "output_type": "stream",
     "text": [
      "Enter the number = 62\n",
      "The sum of digits of n = 8\n"
     ]
    }
   ],
   "source": [
    "n = int(input(\"Enter the number = \"))\n",
    "sum = 0\n",
    "while(n > 0):\n",
    "    sum = sum + int(n % 10)\n",
    "    n = int(n/10)\n",
    "print(\"The sum of digits of n = \"+str(sum))    "
   ]
  },
  {
   "cell_type": "markdown",
   "id": "18f362e4",
   "metadata": {},
   "source": [
    "# POP LAST 2 NUMBERS OF LIST "
   ]
  },
  {
   "cell_type": "code",
   "execution_count": null,
   "id": "306a1712",
   "metadata": {},
   "outputs": [
    {
     "name": "stdout",
     "output_type": "stream",
     "text": [
      "[1, 2, 3, 4, 5, 6, 7, 8]\n",
      "[1, 2, 3, 4, 5, 6]\n"
     ]
    }
   ],
   "source": [
    "lst1 =[1,2,3,4,5,6,7,8]\n",
    "print(lst1)\n",
    "lst1.pop()\n",
    "lst1.pop()\n",
    "print(lst1)"
   ]
  },
  {
   "cell_type": "markdown",
   "id": "a251873b",
   "metadata": {},
   "source": [
    "# SUM OF 'n' NATURAL NUMBERS"
   ]
  },
  {
   "cell_type": "code",
   "execution_count": 7,
   "id": "0ddc7c34",
   "metadata": {},
   "outputs": [
    {
     "name": "stdout",
     "output_type": "stream",
     "text": [
      "Enter the number = 20\n",
      "The Sum of first n natural numbers = 210.0\n"
     ]
    }
   ],
   "source": [
    "n = int(input(\"Enter the number = \"))\n",
    "sum = n*(n+1)/2\n",
    "print(\"The Sum of first n natural numbers = \"+str(sum))"
   ]
  },
  {
   "cell_type": "markdown",
   "id": "96f6a3a4",
   "metadata": {},
   "source": [
    "# CAPITALIZE 1ST LETTER OF INPUT"
   ]
  },
  {
   "cell_type": "code",
   "execution_count": 8,
   "id": "20ff6069",
   "metadata": {},
   "outputs": [
    {
     "name": "stdout",
     "output_type": "stream",
     "text": [
      "Silicon institute of the technology\n",
      "SiliconInstituteOfTechnology\n"
     ]
    }
   ],
   "source": [
    "name = \"silicon institute of the technology\"\n",
    "print(name.capitalize())\n",
    "name1 = \"silicon\"\n",
    "name2 = \"institute\"\n",
    "name3 = \"of\"\n",
    "name4 = \"technology\"\n",
    "print(name1.capitalize() + name2.capitalize() + name3.capitalize() + name4.capitalize())"
   ]
  },
  {
   "cell_type": "code",
   "execution_count": null,
   "id": "136fac84",
   "metadata": {},
   "outputs": [],
   "source": []
  }
 ],
 "metadata": {
  "kernelspec": {
   "display_name": "Python 3",
   "language": "python",
   "name": "python3"
  },
  "language_info": {
   "codemirror_mode": {
    "name": "ipython",
    "version": 3
   },
   "file_extension": ".py",
   "mimetype": "text/x-python",
   "name": "python",
   "nbconvert_exporter": "python",
   "pygments_lexer": "ipython3",
   "version": "3.8.8"
  }
 },
 "nbformat": 4,
 "nbformat_minor": 5
}
