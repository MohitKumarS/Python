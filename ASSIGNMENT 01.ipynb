{
 "cells": [
  {
   "cell_type": "markdown",
   "id": "d0288a14",
   "metadata": {},
   "source": [
    "# AREA OF A SQUARE"
   ]
  },
  {
   "cell_type": "code",
   "execution_count": 5,
   "id": "5b1d7927",
   "metadata": {},
   "outputs": [
    {
     "name": "stdout",
     "output_type": "stream",
     "text": [
      "Enter the side of the square = 4\n",
      "<class 'int'>\n",
      "The area of the square is = 16\n",
      "<class 'str'>\n"
     ]
    }
   ],
   "source": [
    "side = int(input(\"Enter the side of the square = \"))\n",
    "Area = side*side\n",
    "print(type(Area))\n",
    "print(\"The area of the square is = \"+str(Area))\n",
    "print(type(str(Area)))"
   ]
  },
  {
   "cell_type": "markdown",
   "id": "b0637e06",
   "metadata": {},
   "source": [
    "# GCD OF 2 NUMBERS"
   ]
  },
  {
   "cell_type": "code",
   "execution_count": 4,
   "id": "b68b436e",
   "metadata": {},
   "outputs": [
    {
     "name": "stdout",
     "output_type": "stream",
     "text": [
      "Enter the first number = 4\n",
      "Enter the second number = 10\n",
      "GCD of 4 and 10 = 2\n"
     ]
    }
   ],
   "source": [
    "import math\n",
    "n1 = int(input(\"Enter the first number = \"))\n",
    "n2 = int(input(\"Enter the second number = \"))\n",
    "gcd = math.gcd(n1,n2)\n",
    "print(\"GCD of {} and {} = {}\".format(n1,n2,gcd))"
   ]
  },
  {
   "cell_type": "markdown",
   "id": "a3a504f3",
   "metadata": {},
   "source": [
    "# CIRCUMFERENCE OF A CIRCLE USING DIAMETER"
   ]
  },
  {
   "cell_type": "code",
   "execution_count": 1,
   "id": "a8f40922",
   "metadata": {},
   "outputs": [
    {
     "name": "stdout",
     "output_type": "stream",
     "text": [
      "Enter the diameter of the Circle = 7\n",
      "Circumference of the Circle is = 21.991148575128552\n"
     ]
    }
   ],
   "source": [
    "from math import pi\n",
    "diameter = float(input(\"Enter the diameter of the Circle = \"))\n",
    "Circumference = pi*diameter\n",
    "print(\"Circumference of the Circle is = \"+str(Circumference))"
   ]
  },
  {
   "cell_type": "markdown",
   "id": "b1744d7e",
   "metadata": {},
   "source": [
    "# OPPOSITE FACE OF A DICE THROWN"
   ]
  },
  {
   "cell_type": "code",
   "execution_count": 4,
   "id": "86f49370",
   "metadata": {},
   "outputs": [
    {
     "name": "stdout",
     "output_type": "stream",
     "text": [
      "Enter the face of the dice = 4\n",
      "The required opposite face number = 3\n"
     ]
    }
   ],
   "source": [
    "range(1,7,1)\n",
    "x = int(input(\"Enter the face of the dice = \"))\n",
    "y = 7-x\n",
    "print(\"The required opposite face number = \"+str(y))"
   ]
  },
  {
   "cell_type": "markdown",
   "id": "bee61407",
   "metadata": {},
   "source": [
    "# DISTANCE BETWEEN 2 POINTS"
   ]
  },
  {
   "cell_type": "code",
   "execution_count": 5,
   "id": "7e096ab4",
   "metadata": {},
   "outputs": [
    {
     "name": "stdout",
     "output_type": "stream",
     "text": [
      "Enter the 1st coordinate point = \n",
      "18\n",
      "Enter the 2nd coordinate point = \n",
      "28\n",
      "10.0\n"
     ]
    }
   ],
   "source": [
    "import math\n",
    "print(\"Enter the 1st coordinate point = \")\n",
    "P = float(input())\n",
    "print(\"Enter the 2nd coordinate point = \")\n",
    "Q = float(input())\n",
    "Distance = math.dist([P],[Q])\n",
    "print(Distance)"
   ]
  },
  {
   "cell_type": "code",
   "execution_count": null,
   "id": "ab41c809",
   "metadata": {},
   "outputs": [],
   "source": []
  }
 ],
 "metadata": {
  "kernelspec": {
   "display_name": "Python 3",
   "language": "python",
   "name": "python3"
  },
  "language_info": {
   "codemirror_mode": {
    "name": "ipython",
    "version": 3
   },
   "file_extension": ".py",
   "mimetype": "text/x-python",
   "name": "python",
   "nbconvert_exporter": "python",
   "pygments_lexer": "ipython3",
   "version": "3.8.8"
  }
 },
 "nbformat": 4,
 "nbformat_minor": 5
}
